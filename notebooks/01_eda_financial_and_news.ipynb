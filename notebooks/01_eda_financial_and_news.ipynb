{
 "cells": [
  {
   "cell_type": "markdown",
   "id": "8b42d6ec",
   "metadata": {},
   "source": [
    "Importing Data\n",
    "\n",
    "Data Cleaning\n",
    "\n",
    "    Handle missing values: Impute or remove missing data.\n",
    "    Remove duplicates: Ensure there are no duplicate records.\n",
    "    Correct data types: Convert data types to appropriate formats.\n",
    "    Fix errors: Address any inconsistencies or errors in the data."
   ]
  },
  {
   "cell_type": "code",
   "execution_count": 12,
   "id": "cdc028da",
   "metadata": {},
   "outputs": [
    {
     "name": "stdout",
     "output_type": "stream",
     "text": [
      "Project root: /home/hamid/Desktop/kaim5/Kaim5-Week1-challenge\n",
      "The autoreload extension is already loaded. To reload it, use:\n",
      "  %reload_ext autoreload\n"
     ]
    }
   ],
   "source": [
    "import sys\n",
    "import os\n",
    "\n",
    "# Go up one level to the project root\n",
    "project_root = os.path.abspath(os.path.join(os.getcwd(), '..'))\n",
    "print(\"Project root:\", project_root)\n",
    "\n",
    "# Add project root to Python path\n",
    "if project_root not in sys.path:\n",
    "    sys.path.append(project_root)\n",
    "\n",
    "# # Auto-reload modules when they're changed\n",
    "%load_ext autoreload\n",
    "%autoreload 2"
   ]
  },
  {
   "cell_type": "code",
   "execution_count": 13,
   "id": "1c60ed44",
   "metadata": {},
   "outputs": [],
   "source": [
    "import pandas as pd\n",
    "import numpy as np\n",
    "from textblob import TextBlob\n",
    "import matplotlib.pyplot as plt\n",
    "import seaborn as sns"
   ]
  },
  {
   "cell_type": "code",
   "execution_count": 14,
   "id": "227a7c17",
   "metadata": {},
   "outputs": [],
   "source": [
    "# from my_module import load_all_yfinance_data and load_news_data\n",
    "from src.my_module import load_yfinance_data,load_news_data\n"
   ]
  },
  {
   "cell_type": "code",
   "execution_count": 15,
   "id": "2ae33609",
   "metadata": {},
   "outputs": [],
   "source": [
    "#define path for loading the data\n",
    "news_data_file_path='../Data/Raw/raw_analyst_ratings.csv' \n",
    "financial_data_file_path='../Data/Raw/yfinance_data/'  "
   ]
  },
  {
   "cell_type": "code",
   "execution_count": 16,
   "id": "5ee7e463",
   "metadata": {},
   "outputs": [],
   "source": [
    "financial_df=load_yfinance_data(financial_data_file_path)\n",
    "news_df=pd.read_csv(news_data_file_path)\n",
    "#load_news_data(news_data_file_path)"
   ]
  },
  {
   "cell_type": "code",
   "execution_count": 17,
   "id": "ff78efcf",
   "metadata": {},
   "outputs": [
    {
     "name": "stdout",
     "output_type": "stream",
     "text": [
      "<class 'pandas.core.frame.DataFrame'>\n",
      "RangeIndex: 45428 entries, 0 to 45427\n",
      "Data columns (total 10 columns):\n",
      " #   Column        Non-Null Count  Dtype  \n",
      "---  ------        --------------  -----  \n",
      " 0   Date          45428 non-null  object \n",
      " 1   Open          45428 non-null  float64\n",
      " 2   High          45428 non-null  float64\n",
      " 3   Low           45428 non-null  float64\n",
      " 4   Close         45428 non-null  float64\n",
      " 5   Adj Close     45428 non-null  float64\n",
      " 6   Volume        45428 non-null  int64  \n",
      " 7   Dividends     45428 non-null  float64\n",
      " 8   Stock Splits  45428 non-null  float64\n",
      " 9   Ticker        45428 non-null  object \n",
      "dtypes: float64(7), int64(1), object(2)\n",
      "memory usage: 3.5+ MB\n"
     ]
    }
   ],
   "source": [
    "financial_df.info()\n"
   ]
  },
  {
   "cell_type": "code",
   "execution_count": 18,
   "id": "d81a306a",
   "metadata": {},
   "outputs": [
    {
     "name": "stdout",
     "output_type": "stream",
     "text": [
      "<class 'pandas.core.frame.DataFrame'>\n",
      "RangeIndex: 1407328 entries, 0 to 1407327\n",
      "Data columns (total 6 columns):\n",
      " #   Column      Non-Null Count    Dtype \n",
      "---  ------      --------------    ----- \n",
      " 0   Unnamed: 0  1407328 non-null  int64 \n",
      " 1   headline    1407328 non-null  object\n",
      " 2   url         1407328 non-null  object\n",
      " 3   publisher   1407328 non-null  object\n",
      " 4   date        1407328 non-null  object\n",
      " 5   stock       1407328 non-null  object\n",
      "dtypes: int64(1), object(5)\n",
      "memory usage: 64.4+ MB\n"
     ]
    }
   ],
   "source": [
    "news_df.info()"
   ]
  },
  {
   "cell_type": "code",
   "execution_count": 19,
   "id": "73be2a51",
   "metadata": {},
   "outputs": [
    {
     "data": {
      "text/plain": [
       "0                    Stocks That Hit 52-Week Highs On Friday\n",
       "1                 Stocks That Hit 52-Week Highs On Wednesday\n",
       "2                              71 Biggest Movers From Friday\n",
       "3               46 Stocks Moving In Friday's Mid-Day Session\n",
       "4          B of A Securities Maintains Neutral on Agilent...\n",
       "                                 ...                        \n",
       "1407323               Top Narrow Based Indexes For August 29\n",
       "1407324    Recap: Wednesday's Top Percentage Gainers and ...\n",
       "1407325    UPDATE: Oppenheimer Color on China Zenix Auto ...\n",
       "1407326    Oppenheimer Initiates China Zenix At Outperfor...\n",
       "1407327    China Zenix Auto International Opens For Tradi...\n",
       "Name: headline, Length: 1407328, dtype: object"
      ]
     },
     "execution_count": 19,
     "metadata": {},
     "output_type": "execute_result"
    }
   ],
   "source": [
    "#overview of the news data\n",
    "\n",
    "news_df['headline']"
   ]
  },
  {
   "cell_type": "code",
   "execution_count": 22,
   "id": "4f786841",
   "metadata": {},
   "outputs": [],
   "source": [
    "def get_sentiment(text):\n",
    "    return TextBlob(text).sentiment.polarity\n",
    "# Apply sentiment analysis to the 'headline' column\n",
    "news_df['sentiment'] = news_df['headline'].apply(get_sentiment)"
   ]
  },
  {
   "cell_type": "code",
   "execution_count": 23,
   "id": "a59788da",
   "metadata": {},
   "outputs": [
    {
     "data": {
      "text/html": [
       "<div>\n",
       "<style scoped>\n",
       "    .dataframe tbody tr th:only-of-type {\n",
       "        vertical-align: middle;\n",
       "    }\n",
       "\n",
       "    .dataframe tbody tr th {\n",
       "        vertical-align: top;\n",
       "    }\n",
       "\n",
       "    .dataframe thead th {\n",
       "        text-align: right;\n",
       "    }\n",
       "</style>\n",
       "<table border=\"1\" class=\"dataframe\">\n",
       "  <thead>\n",
       "    <tr style=\"text-align: right;\">\n",
       "      <th></th>\n",
       "      <th>Unnamed: 0</th>\n",
       "      <th>headline</th>\n",
       "      <th>url</th>\n",
       "      <th>publisher</th>\n",
       "      <th>date</th>\n",
       "      <th>stock</th>\n",
       "      <th>sentiment</th>\n",
       "    </tr>\n",
       "  </thead>\n",
       "  <tbody>\n",
       "    <tr>\n",
       "      <th>0</th>\n",
       "      <td>0</td>\n",
       "      <td>Stocks That Hit 52-Week Highs On Friday</td>\n",
       "      <td>https://www.benzinga.com/news/20/06/16190091/s...</td>\n",
       "      <td>Benzinga Insights</td>\n",
       "      <td>2020-06-05 10:30:54-04:00</td>\n",
       "      <td>A</td>\n",
       "      <td>0.0</td>\n",
       "    </tr>\n",
       "    <tr>\n",
       "      <th>1</th>\n",
       "      <td>1</td>\n",
       "      <td>Stocks That Hit 52-Week Highs On Wednesday</td>\n",
       "      <td>https://www.benzinga.com/news/20/06/16170189/s...</td>\n",
       "      <td>Benzinga Insights</td>\n",
       "      <td>2020-06-03 10:45:20-04:00</td>\n",
       "      <td>A</td>\n",
       "      <td>0.0</td>\n",
       "    </tr>\n",
       "    <tr>\n",
       "      <th>2</th>\n",
       "      <td>2</td>\n",
       "      <td>71 Biggest Movers From Friday</td>\n",
       "      <td>https://www.benzinga.com/news/20/05/16103463/7...</td>\n",
       "      <td>Lisa Levin</td>\n",
       "      <td>2020-05-26 04:30:07-04:00</td>\n",
       "      <td>A</td>\n",
       "      <td>0.0</td>\n",
       "    </tr>\n",
       "    <tr>\n",
       "      <th>3</th>\n",
       "      <td>3</td>\n",
       "      <td>46 Stocks Moving In Friday's Mid-Day Session</td>\n",
       "      <td>https://www.benzinga.com/news/20/05/16095921/4...</td>\n",
       "      <td>Lisa Levin</td>\n",
       "      <td>2020-05-22 12:45:06-04:00</td>\n",
       "      <td>A</td>\n",
       "      <td>0.0</td>\n",
       "    </tr>\n",
       "    <tr>\n",
       "      <th>4</th>\n",
       "      <td>4</td>\n",
       "      <td>B of A Securities Maintains Neutral on Agilent...</td>\n",
       "      <td>https://www.benzinga.com/news/20/05/16095304/b...</td>\n",
       "      <td>Vick Meyer</td>\n",
       "      <td>2020-05-22 11:38:59-04:00</td>\n",
       "      <td>A</td>\n",
       "      <td>0.0</td>\n",
       "    </tr>\n",
       "  </tbody>\n",
       "</table>\n",
       "</div>"
      ],
      "text/plain": [
       "   Unnamed: 0                                           headline  \\\n",
       "0           0            Stocks That Hit 52-Week Highs On Friday   \n",
       "1           1         Stocks That Hit 52-Week Highs On Wednesday   \n",
       "2           2                      71 Biggest Movers From Friday   \n",
       "3           3       46 Stocks Moving In Friday's Mid-Day Session   \n",
       "4           4  B of A Securities Maintains Neutral on Agilent...   \n",
       "\n",
       "                                                 url          publisher  \\\n",
       "0  https://www.benzinga.com/news/20/06/16190091/s...  Benzinga Insights   \n",
       "1  https://www.benzinga.com/news/20/06/16170189/s...  Benzinga Insights   \n",
       "2  https://www.benzinga.com/news/20/05/16103463/7...         Lisa Levin   \n",
       "3  https://www.benzinga.com/news/20/05/16095921/4...         Lisa Levin   \n",
       "4  https://www.benzinga.com/news/20/05/16095304/b...         Vick Meyer   \n",
       "\n",
       "                        date stock  sentiment  \n",
       "0  2020-06-05 10:30:54-04:00     A        0.0  \n",
       "1  2020-06-03 10:45:20-04:00     A        0.0  \n",
       "2  2020-05-26 04:30:07-04:00     A        0.0  \n",
       "3  2020-05-22 12:45:06-04:00     A        0.0  \n",
       "4  2020-05-22 11:38:59-04:00     A        0.0  "
      ]
     },
     "execution_count": 23,
     "metadata": {},
     "output_type": "execute_result"
    }
   ],
   "source": [
    "news_df.head()"
   ]
  },
  {
   "cell_type": "code",
   "execution_count": 24,
   "id": "249ad3c5",
   "metadata": {},
   "outputs": [
    {
     "name": "stdout",
     "output_type": "stream",
     "text": [
      "Sentiment analysis completed. Sample data:\n",
      "                                            headline  sentiment\n",
      "0            Stocks That Hit 52-Week Highs On Friday        0.0\n",
      "1         Stocks That Hit 52-Week Highs On Wednesday        0.0\n",
      "2                      71 Biggest Movers From Friday        0.0\n",
      "3       46 Stocks Moving In Friday's Mid-Day Session        0.0\n",
      "4  B of A Securities Maintains Neutral on Agilent...        0.0\n"
     ]
    },
    {
     "data": {
      "text/plain": [
       "<matplotlib.lines.Line2D at 0x7d3a86af0b00>"
      ]
     },
     "execution_count": 24,
     "metadata": {},
     "output_type": "execute_result"
    },
    {
     "data": {
      "image/png": "[encoded data removed]",
      "text/plain": [
       "<Figure size 1000x600 with 1 Axes>"
      ]
     },
     "metadata": {},
     "output_type": "display_data"
    }
   ],
   "source": [
    "print(\"Sentiment analysis completed. Sample data:\")\n",
    "print(news_df[['headline', 'sentiment']].head())\n",
    "# Visualize the sentiment distribution\n",
    "plt.figure(figsize=(10, 6))\n",
    "sns.histplot(news_df['sentiment'], bins=30, kde=True)\n",
    "plt.title('Sentiment Distribution of News Headlines')\n",
    "plt.xlabel('Sentiment Score')\n",
    "plt.ylabel('Frequency')\n",
    "plt.axvline(0, color='red', linestyle='--', label='Neutral Sentiment')\n"
   ]
  },
  {
   "cell_type": "code",
   "execution_count": 34,
   "id": "272cfe58",
   "metadata": {},
   "outputs": [
    {
     "name": "stdout",
     "output_type": "stream",
     "text": [
      "Most Negative Sentiment Headlines:\n",
      "                                               headline  sentiment stock\n",
      "2552  Tech, Semiconductors Among Worst Performers As...       -1.0    AA\n",
      "3175               I've just made a horrible investment       -1.0    AA\n",
      "5658   Worst Performing Industries For October 13, 2016       -1.0  AAOI\n",
      "5710   Worst Performing Industries For December 2, 2014       -1.0  AAOI\n",
      "6100                            10 Worst Stocks Of 2017       -1.0   AAP\n",
      "6243  Worst Performing Industries For September 29, ...       -1.0   AAP\n",
      "6282        Worst Performing Industries For May 5, 2016       -1.0   AAP\n",
      "6312  Worst Performing Industries For November 12, 2015       -1.0   AAP\n",
      "6354  Worst Performing Industries For February 12, 2015       -1.0   AAP\n",
      "6390      Worst Performing Industries For July 22, 2014       -1.0   AAP\n",
      "6412  Worst Performing Industries For December 26, 2013       -1.0   AAP\n",
      "6617  Benzinga's Worst Performing Industries (PBY, A...       -1.0   AAP\n",
      "7091  Selling Picks Up In Worst Day Since 1987 As Fe...       -1.0  AAPL\n",
      "7951   Worst Performing Industries For January 26, 2016       -1.0  ABAC\n",
      "8247   Worst Performing Industries For January 16, 2015       -1.0   ABB\n",
      "\n",
      "Most Positive Sentiment Headlines:\n",
      "                                               headline  sentiment stock\n",
      "819            Best Buy: Analysts' Upgrades, Downgrades        1.0     A\n",
      "1343    OneMove(TM) Records its Best Month Ever in July        1.0     A\n",
      "1382  Klondike Silver Completes Underground Drilling...        1.0     A\n",
      "1849                             10 Best Stocks Of 2017        1.0    AA\n",
      "2270          Miners: The Best Way To Play A Rate Hike?        1.0    AA\n",
      "3635          Why 'Year's Best' Stocks May Flop in 2011        1.0    AA\n",
      "3637               10 Best Dow Dividend Stocks for 2011        1.0    AA\n",
      "3764  What Is The Best Aluminum Stock? (KALU, AA, AC...        1.0    AA\n",
      "3967  Market News – Bank of America (NYSE:BAC), Morg...        1.0    AA\n",
      "3968  Market News – Bank of America (NYSE:BAC), Morg...        1.0    AA\n",
      "4975  Best Buy Analyst Says Progressive Leasing Part...        1.0   AAN\n",
      "4976  Best Buy Helped by Leasing Option, Investment ...        1.0   AAN\n",
      "5046  What are the Factors Driving Best Buy Ahead of...        1.0   AAN\n",
      "5598  Zacks.com featured highlights: Chemours, Best ...        1.0  AAOI\n",
      "6078  The Week Ahead: Target, Best Buy Help Close Ou...        1.0   AAP\n"
     ]
    }
   ],
   "source": [
    "#calculate sentiment scores for the headlines\n",
    "most_negative_sentiment=news_df.nsmallest(15,'sentiment')\n",
    "most_positive_sentiment=news_df.nlargest(15, 'sentiment')\n",
    "print(\"Most Negative Sentiment Headlines:\")\n",
    "print(most_negative_sentiment[['headline', 'sentiment', 'stock']])\n",
    "print(\"\\nMost Positive Sentiment Headlines:\")\n",
    "print(most_positive_sentiment[['headline', 'sentiment', 'stock']])\n"
   ]
  },
  {
   "cell_type": "code",
   "execution_count": 61,
   "id": "ce0a59fb",
   "metadata": {},
   "outputs": [
    {
     "name": "stdout",
     "output_type": "stream",
     "text": [
      "Number of unique sentiment values: 5133\n",
      "Number of missing sentiment values: 0\n",
      "count    1.407328e+06\n",
      "mean     4.905657e-02\n",
      "std      1.830652e-01\n",
      "min     -1.000000e+00\n",
      "25%      0.000000e+00\n",
      "50%      0.000000e+00\n",
      "75%      0.000000e+00\n",
      "max      1.000000e+00\n",
      "Name: sentiment, dtype: float64\n"
     ]
    }
   ],
   "source": [
    "#checking for unique sentiment values\n",
    "unique_sentiments = news_df['sentiment'].nunique()\n",
    "print(f\"Number of unique sentiment values: {unique_sentiments}\")\n",
    "# Check for missing values in the sentiment column\n",
    "missing_sentiment = news_df['sentiment'].isnull().sum()\n",
    "print(f\"Number of missing sentiment values: {missing_sentiment}\")\n",
    "print(news_df['sentiment'].describe())  "
   ]
  },
  {
   "cell_type": "code",
   "execution_count": 77,
   "id": "7cd51759",
   "metadata": {},
   "outputs": [
    {
     "name": "stdout",
     "output_type": "stream",
     "text": [
      "Headline Length Statistics:\n",
      "0    39\n",
      "1    42\n",
      "2    29\n",
      "3    44\n",
      "4    87\n",
      "Name: headline_length, dtype: int64\n",
      "Headline Word Count Statistics:\n",
      "0     7\n",
      "1     7\n",
      "2     5\n",
      "3     7\n",
      "4    14\n",
      "Name: headline_word_count, dtype: int64\n",
      "Publisher Counts:\n",
      "publisher\n",
      "Paul Quintaro        228373\n",
      "Lisa Levin           186979\n",
      "Benzinga Newsdesk    150484\n",
      "Charles Gross         96732\n",
      "Monica Gerson         82380\n",
      "                      ...  \n",
      "MoneyGeek                 1\n",
      "muathe                    1\n",
      "Robert Morris             1\n",
      "LeftCoastHedgie           1\n",
      "Jeremie Capron            1\n",
      "Name: count, Length: 1034, dtype: int64\n"
     ]
    }
   ],
   "source": [
    "#Obtain basic statistics for textual lengths (like headline length).\n",
    "news_df['headline_length'] = news_df['headline'].str.len()\n",
    "news_df['headline_word_count'] = news_df['headline'].str.split().apply(len)\n",
    "\n",
    "# Display basic statistics for headline lengths\n",
    "headline_length_stats = news_df['headline_length'].head()\n",
    "print(\"Headline Length Statistics:\")\n",
    "print(headline_length_stats)\n",
    "\n",
    "# Display basic statistics for headline word counts\n",
    "headline_word_count_stats = news_df['headline_word_count'].head()\n",
    "print(\"Headline Word Count Statistics:\")\n",
    "print(headline_word_count_stats)\n",
    "\n",
    "publisher_counts = news_df['publisher'].value_counts()\n",
    "print(\"Publisher Counts:\")\n",
    "print(publisher_counts)\n"
   ]
  },
  {
   "cell_type": "code",
   "execution_count": null,
   "id": "5385c340",
   "metadata": {},
   "outputs": [
    {
     "data": {
      "text/plain": [
       "np.int64(1407328)"
      ]
     },
     "execution_count": 83,
     "metadata": {},
     "output_type": "execute_result"
    }
   ],
   "source": [
    "# Use pandas to_datetime with errors='coerce' to handle inconsistent formats\n",
    "news_df['date'].isnull().count()  \n",
    "news_df['date'].isnull().count()  \n",
    "\n",
    "# Convert 'date' column to datetime format"
   ]
  }
 ],
 "metadata": {
  "kernelspec": {
   "display_name": ".venv",
   "language": "python",
   "name": "python3"
  },
  "language_info": {
   "codemirror_mode": {
    "name": "ipython",
    "version": 3
   },
   "file_extension": ".py",
   "mimetype": "text/x-python",
   "name": "python",
   "nbconvert_exporter": "python",
   "pygments_lexer": "ipython3",
   "version": "3.12.3"
  }
 },
 "nbformat": 4,
 "nbformat_minor": 5
}
